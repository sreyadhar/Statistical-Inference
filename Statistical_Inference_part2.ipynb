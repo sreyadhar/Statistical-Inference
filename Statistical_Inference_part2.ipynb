{
  "nbformat": 4,
  "nbformat_minor": 0,
  "metadata": {
    "colab": {
      "name": "Statistical Inference_part2.ipynb",
      "provenance": [],
      "collapsed_sections": [],
      "authorship_tag": "ABX9TyNG9bWxf+UDSG+m31wOmSNC"
    },
    "kernelspec": {
      "name": "ir",
      "display_name": "R"
    }
  },
  "cells": [
    {
      "cell_type": "code",
      "metadata": {
        "id": "HypzRdMkuyDp",
        "colab_type": "code",
        "outputId": "369b56f2-6a72-4a4c-b594-aad4eabc288b",
        "colab": {
          "base_uri": "https://localhost:8080/",
          "height": 102
        }
      },
      "source": [
        "#Created by Sreya Dhar\n",
        "#Dated: 04/18/20\n",
        "\n",
        "library(ggplot2)\n",
        "library(tidyverse)\n",
        "\n",
        "# Load the data ToothGrowth\n",
        "data(ToothGrowth)\n",
        "# Look at the structure of the data\n",
        "dim.data.frame(ToothGrowth)\n",
        "str(ToothGrowth)"
      ],
      "execution_count": 0,
      "outputs": [
        {
          "output_type": "display_data",
          "data": {
            "text/plain": [
              "[1] 60  3"
            ],
            "text/latex": "\\begin{enumerate*}\n\\item 60\n\\item 3\n\\end{enumerate*}\n",
            "text/markdown": "1. 60\n2. 3\n\n\n",
            "text/html": [
              "<style>\n",
              ".list-inline {list-style: none; margin:0; padding: 0}\n",
              ".list-inline>li {display: inline-block}\n",
              ".list-inline>li:not(:last-child)::after {content: \"\\00b7\"; padding: 0 .5ex}\n",
              "</style>\n",
              "<ol class=list-inline><li>60</li><li>3</li></ol>\n"
            ]
          },
          "metadata": {
            "tags": []
          }
        },
        {
          "output_type": "stream",
          "text": [
            "'data.frame':\t60 obs. of  3 variables:\n",
            " $ len : num  4.2 11.5 7.3 5.8 6.4 10 11.2 11.2 5.2 7 ...\n",
            " $ supp: Factor w/ 2 levels \"OJ\",\"VC\": 2 2 2 2 2 2 2 2 2 2 ...\n",
            " $ dose: num  0.5 0.5 0.5 0.5 0.5 0.5 0.5 0.5 0.5 0.5 ...\n"
          ],
          "name": "stdout"
        }
      ]
    },
    {
      "cell_type": "code",
      "metadata": {
        "id": "sdUWp_kRvDSS",
        "colab_type": "code",
        "outputId": "38a05dd4-6fc3-4cdd-9102-47fae0675e64",
        "colab": {
          "base_uri": "https://localhost:8080/",
          "height": 141
        }
      },
      "source": [
        "# Look at the first 3 rows of the data\n",
        "head(ToothGrowth,3)"
      ],
      "execution_count": 0,
      "outputs": [
        {
          "output_type": "display_data",
          "data": {
            "text/plain": [
              "  len  supp dose\n",
              "1  4.2 VC   0.5 \n",
              "2 11.5 VC   0.5 \n",
              "3  7.3 VC   0.5 "
            ],
            "text/latex": "A data.frame: 3 × 3\n\\begin{tabular}{r|lll}\n  & len & supp & dose\\\\\n  & <dbl> & <fct> & <dbl>\\\\\n\\hline\n\t1 &  4.2 & VC & 0.5\\\\\n\t2 & 11.5 & VC & 0.5\\\\\n\t3 &  7.3 & VC & 0.5\\\\\n\\end{tabular}\n",
            "text/markdown": "\nA data.frame: 3 × 3\n\n| <!--/--> | len &lt;dbl&gt; | supp &lt;fct&gt; | dose &lt;dbl&gt; |\n|---|---|---|---|\n| 1 |  4.2 | VC | 0.5 |\n| 2 | 11.5 | VC | 0.5 |\n| 3 |  7.3 | VC | 0.5 |\n\n",
            "text/html": [
              "<table>\n",
              "<caption>A data.frame: 3 × 3</caption>\n",
              "<thead>\n",
              "\t<tr><th></th><th scope=col>len</th><th scope=col>supp</th><th scope=col>dose</th></tr>\n",
              "\t<tr><th></th><th scope=col>&lt;dbl&gt;</th><th scope=col>&lt;fct&gt;</th><th scope=col>&lt;dbl&gt;</th></tr>\n",
              "</thead>\n",
              "<tbody>\n",
              "\t<tr><th scope=row>1</th><td> 4.2</td><td>VC</td><td>0.5</td></tr>\n",
              "\t<tr><th scope=row>2</th><td>11.5</td><td>VC</td><td>0.5</td></tr>\n",
              "\t<tr><th scope=row>3</th><td> 7.3</td><td>VC</td><td>0.5</td></tr>\n",
              "</tbody>\n",
              "</table>\n"
            ]
          },
          "metadata": {
            "tags": []
          }
        }
      ]
    },
    {
      "cell_type": "code",
      "metadata": {
        "id": "Xq0WVW_vvGai",
        "colab_type": "code",
        "outputId": "5c707ccc-e9b1-49cd-e962-586369dfc3af",
        "colab": {
          "base_uri": "https://localhost:8080/",
          "height": 136
        }
      },
      "source": [
        "# Look at the summary of the data\n",
        "summary(ToothGrowth)"
      ],
      "execution_count": 0,
      "outputs": [
        {
          "output_type": "display_data",
          "data": {
            "text/plain": [
              "      len        supp         dose      \n",
              " Min.   : 4.20   OJ:30   Min.   :0.500  \n",
              " 1st Qu.:13.07   VC:30   1st Qu.:0.500  \n",
              " Median :19.25           Median :1.000  \n",
              " Mean   :18.81           Mean   :1.167  \n",
              " 3rd Qu.:25.27           3rd Qu.:2.000  \n",
              " Max.   :33.90           Max.   :2.000  "
            ]
          },
          "metadata": {
            "tags": []
          }
        }
      ]
    },
    {
      "cell_type": "code",
      "metadata": {
        "id": "LkKfG5psvMwa",
        "colab_type": "code",
        "outputId": "2d3b3e55-a679-4f8e-d686-5b58f0a16126",
        "colab": {
          "base_uri": "https://localhost:8080/",
          "height": 34
        }
      },
      "source": [
        "# Compare means of the different delivery methods\n",
        "tapply(ToothGrowth$len,ToothGrowth$supp, mean)\n"
      ],
      "execution_count": 0,
      "outputs": [
        {
          "output_type": "display_data",
          "data": {
            "text/plain": [
              "      OJ       VC \n",
              "20.66333 16.96333 "
            ],
            "text/latex": "\\begin{description*}\n\\item[OJ] 20.6633333333333\n\\item[VC] 16.9633333333333\n\\end{description*}\n",
            "text/markdown": "OJ\n:   20.6633333333333VC\n:   16.9633333333333\n\n",
            "text/html": [
              "<style>\n",
              ".dl-inline {width: auto; margin:0; padding: 0}\n",
              ".dl-inline>dt, .dl-inline>dd {float: none; width: auto; display: inline-block}\n",
              ".dl-inline>dt::after {content: \":\\0020\"; padding-right: .5ex}\n",
              ".dl-inline>dt:not(:first-of-type) {padding-left: .5ex}\n",
              "</style><dl class=dl-inline><dt>OJ</dt><dd>20.6633333333333</dd><dt>VC</dt><dd>16.9633333333333</dd></dl>\n"
            ]
          },
          "metadata": {
            "tags": []
          }
        }
      ]
    },
    {
      "cell_type": "code",
      "metadata": {
        "id": "5xDiY_ksvPrR",
        "colab_type": "code",
        "outputId": "041f4394-0e67-4e28-b50a-dfcad0760e27",
        "colab": {
          "base_uri": "https://localhost:8080/",
          "height": 437
        }
      },
      "source": [
        "# Make a plot to look at data graphically\n",
        "ggplot(ToothGrowth, aes(factor(dose), len, fill = factor(dose))) +\n",
        "      geom_boxplot() +\n",
        "      facet_grid(.~supp, labeller = as_labeller(c(\"OJ\" = \"Orange juice\",  \"VC\" = \"Ascorbic Acid\"))) +\n",
        "      labs(title = \"Tooth growth data by dosage and delivery method of vitamin C\", x = \"Dose in mg/day\", y = \"Tooth Lengh\") +\n",
        "      theme_bw()+\n",
        "      scale_fill_discrete(name = \"Dosage of\\nvitamin C\\nin mg/day\")"
      ],
      "execution_count": 0,
      "outputs": [
        {
          "output_type": "display_data",
          "data": {
            "image/png": "[encoded data removed]",
            "text/plain": [
              "plot without title"
            ]
          },
          "metadata": {
            "tags": [],
            "image/png": {
              "width": 420,
              "height": 420
            },
            "text/plain": {
              "width": 420,
              "height": 420
            }
          }
        }
      ]
    },
    {
      "cell_type": "code",
      "metadata": {
        "id": "zURQHwKNvTRJ",
        "colab_type": "code",
        "outputId": "8f40029c-91d3-47a3-b3de-3b72493e4383",
        "colab": {
          "base_uri": "https://localhost:8080/",
          "height": 770
        }
      },
      "source": [
        "# Comparison by delivery method for the same dosage\n",
        "t05 <- t.test(len ~ supp, data = rbind(ToothGrowth[(ToothGrowth$dose == 0.5) & (ToothGrowth$supp == \"OJ\"),],\n",
        "                                      ToothGrowth[(ToothGrowth$dose == 0.5) & (ToothGrowth$supp == \"VC\"),]),                   \n",
        "                                      var.equal = FALSE)\n",
        " \n",
        "t1 <- t.test(len ~ supp, data = rbind(ToothGrowth[(ToothGrowth$dose == 1.0) & (ToothGrowth$supp == \"OJ\"),],\n",
        "                                      ToothGrowth[(ToothGrowth$dose == 1.0) & (ToothGrowth$supp == \"VC\"),]),                   \n",
        "                                      var.equal = FALSE)\n",
        "\n",
        "t2 <- t.test(len ~ supp, data = rbind(ToothGrowth[(ToothGrowth$dose == 2.0) & (ToothGrowth$supp == \"OJ\"),],\n",
        "                                      ToothGrowth[(ToothGrowth$dose == 2.0) & (ToothGrowth$supp == \"VC\"),]),                   \n",
        "                                      var.equal = FALSE)\n",
        "\n",
        "print('Summary of t05');summary(t05)\n",
        "print(\"Summary of t1\");summary(t1)\n",
        "print(\"Summary of t2\");summary(t2)\n",
        "\n",
        "# summary of the conducted t.tests, which compare the delivery methods by dosage p-values and CI\n",
        "summary_comb <- data.frame(\n",
        "      \"p-value\" = c(t05$p.value, t1$p.value, t2$p.value),\n",
        "      \"Conf.Low\" = c(t05$conf.int[1],t1$conf.int[1], t2$conf.int[1]),\n",
        "      \"Conf.High\" = c(t05$conf.int[2],t1$conf.int[2], t2$conf.int[2]),\n",
        "      row.names = c(\"Dosage .05\",\"Dosage 1\",\"Dosage 2\"))\n",
        "\n",
        "# Show the data table \n",
        "print(\"Comparison of Statistics from different methods\");summary_comb"
      ],
      "execution_count": 0,
      "outputs": [
        {
          "output_type": "stream",
          "text": [
            "[1] \"Summary of t05\"\n"
          ],
          "name": "stdout"
        },
        {
          "output_type": "display_data",
          "data": {
            "text/plain": [
              "            Length Class  Mode     \n",
              "statistic   1      -none- numeric  \n",
              "parameter   1      -none- numeric  \n",
              "p.value     1      -none- numeric  \n",
              "conf.int    2      -none- numeric  \n",
              "estimate    2      -none- numeric  \n",
              "null.value  1      -none- numeric  \n",
              "stderr      1      -none- numeric  \n",
              "alternative 1      -none- character\n",
              "method      1      -none- character\n",
              "data.name   1      -none- character"
            ]
          },
          "metadata": {
            "tags": []
          }
        },
        {
          "output_type": "stream",
          "text": [
            "[1] \"Summary of t1\"\n"
          ],
          "name": "stdout"
        },
        {
          "output_type": "display_data",
          "data": {
            "text/plain": [
              "            Length Class  Mode     \n",
              "statistic   1      -none- numeric  \n",
              "parameter   1      -none- numeric  \n",
              "p.value     1      -none- numeric  \n",
              "conf.int    2      -none- numeric  \n",
              "estimate    2      -none- numeric  \n",
              "null.value  1      -none- numeric  \n",
              "stderr      1      -none- numeric  \n",
              "alternative 1      -none- character\n",
              "method      1      -none- character\n",
              "data.name   1      -none- character"
            ]
          },
          "metadata": {
            "tags": []
          }
        },
        {
          "output_type": "stream",
          "text": [
            "[1] \"Summary of t2\"\n"
          ],
          "name": "stdout"
        },
        {
          "output_type": "display_data",
          "data": {
            "text/plain": [
              "            Length Class  Mode     \n",
              "statistic   1      -none- numeric  \n",
              "parameter   1      -none- numeric  \n",
              "p.value     1      -none- numeric  \n",
              "conf.int    2      -none- numeric  \n",
              "estimate    2      -none- numeric  \n",
              "null.value  1      -none- numeric  \n",
              "stderr      1      -none- numeric  \n",
              "alternative 1      -none- character\n",
              "method      1      -none- character\n",
              "data.name   1      -none- character"
            ]
          },
          "metadata": {
            "tags": []
          }
        },
        {
          "output_type": "stream",
          "text": [
            "[1] \"Comparison of Statistics from different methods\"\n"
          ],
          "name": "stdout"
        },
        {
          "output_type": "display_data",
          "data": {
            "text/plain": [
              "           p.value     Conf.Low  Conf.High\n",
              "Dosage .05 0.006358607  1.719057 8.780943 \n",
              "Dosage 1   0.001038376  2.802148 9.057852 \n",
              "Dosage 2   0.963851589 -3.798070 3.638070 "
            ],
            "text/latex": "A data.frame: 3 × 3\n\\begin{tabular}{r|lll}\n  & p.value & Conf.Low & Conf.High\\\\\n  & <dbl> & <dbl> & <dbl>\\\\\n\\hline\n\tDosage .05 & 0.006358607 &  1.719057 & 8.780943\\\\\n\tDosage 1 & 0.001038376 &  2.802148 & 9.057852\\\\\n\tDosage 2 & 0.963851589 & -3.798070 & 3.638070\\\\\n\\end{tabular}\n",
            "text/markdown": "\nA data.frame: 3 × 3\n\n| <!--/--> | p.value &lt;dbl&gt; | Conf.Low &lt;dbl&gt; | Conf.High &lt;dbl&gt; |\n|---|---|---|---|\n| Dosage .05 | 0.006358607 |  1.719057 | 8.780943 |\n| Dosage 1 | 0.001038376 |  2.802148 | 9.057852 |\n| Dosage 2 | 0.963851589 | -3.798070 | 3.638070 |\n\n",
            "text/html": [
              "<table>\n",
              "<caption>A data.frame: 3 × 3</caption>\n",
              "<thead>\n",
              "\t<tr><th></th><th scope=col>p.value</th><th scope=col>Conf.Low</th><th scope=col>Conf.High</th></tr>\n",
              "\t<tr><th></th><th scope=col>&lt;dbl&gt;</th><th scope=col>&lt;dbl&gt;</th><th scope=col>&lt;dbl&gt;</th></tr>\n",
              "</thead>\n",
              "<tbody>\n",
              "\t<tr><th scope=row>Dosage .05</th><td>0.006358607</td><td> 1.719057</td><td>8.780943</td></tr>\n",
              "\t<tr><th scope=row>Dosage 1</th><td>0.001038376</td><td> 2.802148</td><td>9.057852</td></tr>\n",
              "\t<tr><th scope=row>Dosage 2</th><td>0.963851589</td><td>-3.798070</td><td>3.638070</td></tr>\n",
              "</tbody>\n",
              "</table>\n"
            ]
          },
          "metadata": {
            "tags": []
          }
        }
      ]
    }
  ]
}